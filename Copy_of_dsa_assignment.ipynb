{
  "nbformat": 4,
  "nbformat_minor": 0,
  "metadata": {
    "colab": {
      "provenance": [],
      "authorship_tag": "ABX9TyNPgi0BuxtxLZMOoYyePlfj",
      "include_colab_link": true
    },
    "kernelspec": {
      "name": "python3",
      "display_name": "Python 3"
    },
    "language_info": {
      "name": "python"
    }
  },
  "cells": [
    {
      "cell_type": "markdown",
      "metadata": {
        "id": "view-in-github",
        "colab_type": "text"
      },
      "source": [
        "<a href=\"https://colab.research.google.com/github/anitharahul01/anitha/blob/main/Copy_of_dsa_assignment.ipynb\" target=\"_parent\"><img src=\"https://colab.research.google.com/assets/colab-badge.svg\" alt=\"Open In Colab\"/></a>"
      ]
    },
    {
      "cell_type": "code",
      "execution_count": null,
      "metadata": {
        "id": "rN4wujSoottc",
        "colab": {
          "base_uri": "https://localhost:8080/"
        },
        "outputId": "815f51c4-b95f-4eb5-f9ba-3e2f1cf7c180"
      },
      "outputs": [
        {
          "output_type": "stream",
          "name": "stdout",
          "text": [
            "mean= 17.1\n",
            "mode= ModeResult(mode=np.int64(10), count=np.int64(1))\n",
            "median= 17.5\n"
          ]
        }
      ],
      "source": [
        "##1. Measures of Central Tendency:\n",
        "#Given the dataset data = [12, 15, 14, 10, 18, 20, 22, 24, 17, 19] calculate the Mean,\n",
        "#Median, and Mode using both Excel/Google Sheets/ Python\n",
        "data = [12, 15, 14, 10, 18, 20, 22, 24, 17, 19]\n",
        "import numpy as np\n",
        "mean=np.mean(data)\n",
        "print('mean=', mean)\n",
        "\n",
        "from scipy import stats\n",
        "mode=stats.mode(data)\n",
        "print ('mode=', mode)\n",
        "\n",
        "median=np.median(data)\n",
        "print('median=', median)"
      ]
    },
    {
      "cell_type": "code",
      "source": [
        "##2. Percentiles and Quartiles:\n",
        "#Compute the 25th percentile (Q1),50th percentile (Q2),and 75th percentile (Q3)for the dataset using both tools\n",
        "data = [12, 15, 14, 10, 18, 20, 22, 24, 17, 19]\n",
        "y=sorted(data)\n",
        "l=len(y)\n",
        "#Q1= 25th percentile\n",
        "np.percentile(y,25)\n",
        "print(\"Q1=\",np.percentile(y,25))\n",
        "##Q2=50th percentile\n",
        "print(\"Q2=\",np.percentile(y,50))\n",
        "#Q3=75 percentile\n",
        "print(\"Q3=\",np.percentile(y,75))\n"
      ],
      "metadata": {
        "colab": {
          "base_uri": "https://localhost:8080/"
        },
        "id": "KzdPIUYXit0V",
        "outputId": "fe19e3d8-ef6d-416d-e878-1c201ff16b05"
      },
      "execution_count": null,
      "outputs": [
        {
          "output_type": "stream",
          "name": "stdout",
          "text": [
            "Q1= 14.25\n",
            "Q2= 17.5\n",
            "Q3= 19.75\n"
          ]
        }
      ]
    },
    {
      "cell_type": "code",
      "source": [
        "##6. Measures of Dispersion:\n",
        "#Compute the Range, Varianceand Standard Deviation using both Excel/Google Sheets/Python.\n",
        "data = [12, 15, 14, 10, 18, 20, 22, 24, 17, 19]\n",
        "y=sorted(data)\n",
        "l=len(y)\n",
        "print(\"range=\",max(y)-min(y))\n",
        "print(\"variance=\",np.var(y))\n",
        "print(\"standard deviation=\",np.std(y))"
      ],
      "metadata": {
        "colab": {
          "base_uri": "https://localhost:8080/"
        },
        "id": "qxERr49OvW8V",
        "outputId": "64a0cc19-a221-497c-c0f2-2652928241e8"
      },
      "execution_count": null,
      "outputs": [
        {
          "output_type": "stream",
          "name": "stdout",
          "text": [
            "range= 14\n",
            "variance= 17.490000000000002\n",
            "standard deviation= 4.182104733265297\n"
          ]
        }
      ]
    },
    {
      "cell_type": "code",
      "source": [
        "##Given two datasets x = [10, 20, 30, 40, 50] and y = [5, 10, 15, 20, 25]\n",
        "##9. Scatter Plot Visualization:\n",
        "##Create a scatter plot using both Excel/Python to visually inspect the correlation between x and y.\n",
        "x = [10, 20, 30, 40, 50]\n",
        "y = [5, 10, 15, 20, 25]\n",
        "import matplotlib.pyplot as plt\n",
        "plt.scatter(x,y)"
      ],
      "metadata": {
        "colab": {
          "base_uri": "https://localhost:8080/",
          "height": 447
        },
        "id": "zpwKjCjdyhoy",
        "outputId": "8e7295db-2c90-4d6a-b339-14b0bf283a6f"
      },
      "execution_count": null,
      "outputs": [
        {
          "output_type": "execute_result",
          "data": {
            "text/plain": [
              "<matplotlib.collections.PathCollection at 0x7ab7d0511890>"
            ]
          },
          "metadata": {},
          "execution_count": 27
        },
        {
          "output_type": "display_data",
          "data": {
            "text/plain": [
              "<Figure size 640x480 with 1 Axes>"
            ],
            "image/png": "[encoded data removed]"
          },
          "metadata": {}
        }
      ]
    },
    {
      "cell_type": "code",
      "source": [
        "##. Correlation Coefficient:\n",
        "##Given two datasets x = [10, 20, 30, 40, 50] and y = [5, 10, 15, 20, 25], compute thePearson correlation coefficient.\n",
        "x = [10, 20, 30, 40, 50]\n",
        "y = [5, 10, 15, 20, 25]\n",
        "import scipy.stats as stats\n",
        "correlation_coefficient, p_value = stats.pearsonr(x,y)\n",
        "print(\"Correlation Coefficient:\", correlation_coefficient)\n",
        "print(\"P-value:\", p_value)"
      ],
      "metadata": {
        "colab": {
          "base_uri": "https://localhost:8080/"
        },
        "id": "CXwYV4fx0SVK",
        "outputId": "b132d475-8186-442c-b520-d863e109fb16"
      },
      "execution_count": null,
      "outputs": [
        {
          "output_type": "stream",
          "name": "stdout",
          "text": [
            "Correlation Coefficient: 0.9999999999999998\n",
            "P-value: 3.971862410081708e-24\n"
          ]
        }
      ]
    }
  ]
}