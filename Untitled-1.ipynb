{
 "cells": [
  {
   "cell_type": "markdown",
   "id": "94e529ec",
   "metadata": {},
   "source": [
    "NumPy Problems\n",
    "1. Basic Array Operations\n",
    "Convert the mpg column into a NumPy array and calculate:\n",
    "○ The mean, median, and standard deviation of mpg.\n",
    "○ The number of cars with mpg greater than 25."
   ]
  },
  {
   "cell_type": "code",
   "execution_count": 227,
   "id": "06b24d31",
   "metadata": {},
   "outputs": [],
   "source": [
    "import numpy as np\n",
    "import pandas as pd"
   ]
  },
  {
   "cell_type": "code",
   "execution_count": 228,
   "id": "9697d03f",
   "metadata": {},
   "outputs": [
    {
     "data": {
      "text/html": [
       "<div>\n",
       "<style scoped>\n",
       "    .dataframe tbody tr th:only-of-type {\n",
       "        vertical-align: middle;\n",
       "    }\n",
       "\n",
       "    .dataframe tbody tr th {\n",
       "        vertical-align: top;\n",
       "    }\n",
       "\n",
       "    .dataframe thead th {\n",
       "        text-align: right;\n",
       "    }\n",
       "</style>\n",
       "<table border=\"1\" class=\"dataframe\">\n",
       "  <thead>\n",
       "    <tr style=\"text-align: right;\">\n",
       "      <th></th>\n",
       "      <th>mpg</th>\n",
       "      <th>cylinders</th>\n",
       "      <th>displacement</th>\n",
       "      <th>horsepower</th>\n",
       "      <th>weight</th>\n",
       "      <th>acceleration</th>\n",
       "      <th>model year</th>\n",
       "      <th>origin</th>\n",
       "      <th>car name</th>\n",
       "    </tr>\n",
       "  </thead>\n",
       "  <tbody>\n",
       "    <tr>\n",
       "      <th>0</th>\n",
       "      <td>18.0</td>\n",
       "      <td>8</td>\n",
       "      <td>307.0</td>\n",
       "      <td>130</td>\n",
       "      <td>3504</td>\n",
       "      <td>12.0</td>\n",
       "      <td>70</td>\n",
       "      <td>1</td>\n",
       "      <td>chevrolet chevelle malibu</td>\n",
       "    </tr>\n",
       "    <tr>\n",
       "      <th>1</th>\n",
       "      <td>15.0</td>\n",
       "      <td>8</td>\n",
       "      <td>350.0</td>\n",
       "      <td>165</td>\n",
       "      <td>3693</td>\n",
       "      <td>11.5</td>\n",
       "      <td>70</td>\n",
       "      <td>1</td>\n",
       "      <td>buick skylark 320</td>\n",
       "    </tr>\n",
       "    <tr>\n",
       "      <th>2</th>\n",
       "      <td>18.0</td>\n",
       "      <td>8</td>\n",
       "      <td>318.0</td>\n",
       "      <td>150</td>\n",
       "      <td>3436</td>\n",
       "      <td>11.0</td>\n",
       "      <td>70</td>\n",
       "      <td>1</td>\n",
       "      <td>plymouth satellite</td>\n",
       "    </tr>\n",
       "    <tr>\n",
       "      <th>3</th>\n",
       "      <td>16.0</td>\n",
       "      <td>8</td>\n",
       "      <td>304.0</td>\n",
       "      <td>150</td>\n",
       "      <td>3433</td>\n",
       "      <td>12.0</td>\n",
       "      <td>70</td>\n",
       "      <td>1</td>\n",
       "      <td>amc rebel sst</td>\n",
       "    </tr>\n",
       "    <tr>\n",
       "      <th>4</th>\n",
       "      <td>17.0</td>\n",
       "      <td>8</td>\n",
       "      <td>302.0</td>\n",
       "      <td>140</td>\n",
       "      <td>3449</td>\n",
       "      <td>10.5</td>\n",
       "      <td>70</td>\n",
       "      <td>1</td>\n",
       "      <td>ford torino</td>\n",
       "    </tr>\n",
       "  </tbody>\n",
       "</table>\n",
       "</div>"
      ],
      "text/plain": [
       "    mpg  cylinders  displacement horsepower  weight  acceleration  model year  \\\n",
       "0  18.0          8         307.0        130    3504          12.0          70   \n",
       "1  15.0          8         350.0        165    3693          11.5          70   \n",
       "2  18.0          8         318.0        150    3436          11.0          70   \n",
       "3  16.0          8         304.0        150    3433          12.0          70   \n",
       "4  17.0          8         302.0        140    3449          10.5          70   \n",
       "\n",
       "   origin                   car name  \n",
       "0       1  chevrolet chevelle malibu  \n",
       "1       1          buick skylark 320  \n",
       "2       1         plymouth satellite  \n",
       "3       1              amc rebel sst  \n",
       "4       1                ford torino  "
      ]
     },
     "execution_count": 228,
     "metadata": {},
     "output_type": "execute_result"
    }
   ],
   "source": [
    "data = pd.read_csv(\n",
    "    r\"C:\\Users\\rahul\\OneDrive\\Desktop\\anitha\\DSA\\dsa assignments\\case study on numpy and pandas asst\\auto-mpg.csv\"\n",
    ")\n",
    "data.head()"
   ]
  },
  {
   "cell_type": "code",
   "execution_count": 229,
   "id": "20f5abcb",
   "metadata": {},
   "outputs": [
    {
     "name": "stdout",
     "output_type": "stream",
     "text": [
      "[18.  15.  18.  16.  17.  15.  14.  14.  14.  15.  15.  14.  15.  14.\n",
      " 24.  22.  18.  21.  27.  26.  25.  24.  25.  26.  21.  10.  10.  11.\n",
      "  9.  27.  28.  25.  25.  19.  16.  17.  19.  18.  14.  14.  14.  14.\n",
      " 12.  13.  13.  18.  22.  19.  18.  23.  28.  30.  30.  31.  35.  27.\n",
      " 26.  24.  25.  23.  20.  21.  13.  14.  15.  14.  17.  11.  13.  12.\n",
      " 13.  19.  15.  13.  13.  14.  18.  22.  21.  26.  22.  28.  23.  28.\n",
      " 27.  13.  14.  13.  14.  15.  12.  13.  13.  14.  13.  12.  13.  18.\n",
      " 16.  18.  18.  23.  26.  11.  12.  13.  12.  18.  20.  21.  22.  18.\n",
      " 19.  21.  26.  15.  16.  29.  24.  20.  19.  15.  24.  20.  11.  20.\n",
      " 21.  19.  15.  31.  26.  32.  25.  16.  16.  18.  16.  13.  14.  14.\n",
      " 14.  29.  26.  26.  31.  32.  28.  24.  26.  24.  26.  31.  19.  18.\n",
      " 15.  15.  16.  15.  16.  14.  17.  16.  15.  18.  21.  20.  13.  29.\n",
      " 23.  20.  23.  24.  25.  24.  18.  29.  19.  23.  23.  22.  25.  33.\n",
      " 28.  25.  25.  26.  27.  17.5 16.  15.5 14.5 22.  22.  24.  22.5 29.\n",
      " 24.5 29.  33.  20.  18.  18.5 17.5 29.5 32.  28.  26.5 20.  13.  19.\n",
      " 19.  16.5 16.5 13.  13.  13.  31.5 30.  36.  25.5 33.5 17.5 17.  15.5\n",
      " 15.  17.5 20.5 19.  18.5 16.  15.5 15.5 16.  29.  24.5 26.  25.5 30.5\n",
      " 33.5 30.  30.5 22.  21.5 21.5 43.1 36.1 32.8 39.4 36.1 19.9 19.4 20.2\n",
      " 19.2 20.5 20.2 25.1 20.5 19.4 20.6 20.8 18.6 18.1 19.2 17.7 18.1 17.5\n",
      " 30.  27.5 27.2 30.9 21.1 23.2 23.8 23.9 20.3 17.  21.6 16.2 31.5 29.5\n",
      " 21.5 19.8 22.3 20.2 20.6 17.  17.6 16.5 18.2 16.9 15.5 19.2 18.5 31.9\n",
      " 34.1 35.7 27.4 25.4 23.  27.2 23.9 34.2 34.5 31.8 37.3 28.4 28.8 26.8\n",
      " 33.5 41.5 38.1 32.1 37.2 28.  26.4 24.3 19.1 34.3 29.8 31.3 37.  32.2\n",
      " 46.6 27.9 40.8 44.3 43.4 36.4 30.  44.6 40.9 33.8 29.8 32.7 23.7 35.\n",
      " 23.6 32.4 27.2 26.6 25.8 23.5 30.  39.1 39.  35.1 32.3 37.  37.7 34.1\n",
      " 34.7 34.4 29.9 33.  34.5 33.7 32.4 32.9 31.6 28.1 30.7 25.4 24.2 22.4\n",
      " 26.6 20.2 17.6 28.  27.  34.  31.  29.  27.  24.  23.  36.  37.  31.\n",
      " 38.  36.  36.  36.  34.  38.  32.  38.  25.  38.  26.  22.  32.  36.\n",
      " 27.  27.  44.  32.  28.  31. ]\n"
     ]
    }
   ],
   "source": [
    "cylinders_array=data['cylinders'].to_numpy()\n",
    "displacement_array=data['displacement'].to_numpy()\n",
    "horsepower_array=data['horsepower'].to_numpy()\n",
    "weight_array=data['weight'].to_numpy()\n",
    "acceleration_array=data['acceleration'].to_numpy()\n",
    "model_year_array=data['model year'].to_numpy()\n",
    "origin_arrray=data['origin'].to_numpy()\n",
    "car_name_array=data['car name'].to_numpy()\n",
    "mpg_array = data ['mpg'].to_numpy()\n",
    "print(mpg_array)"
   ]
  },
  {
   "cell_type": "code",
   "execution_count": 230,
   "id": "5437c4a1",
   "metadata": {},
   "outputs": [
    {
     "name": "stdout",
     "output_type": "stream",
     "text": [
      "mean_mpg= 23.514572864321607\n",
      "median_mpg= 23.0\n",
      "standard deviation_mpg= 7.806159061274433\n"
     ]
    }
   ],
   "source": [
    "mean_mpg = np.mean(mpg_array)\n",
    "median_mpg = np.median(mpg_array)\n",
    "std_mpg=np.std(mpg_array)\n",
    "print(\"mean_mpg=\",mean_mpg)\n",
    "print(\"median_mpg=\",median_mpg)\n",
    "print(\"standard deviation_mpg=\",std_mpg)"
   ]
  },
  {
   "cell_type": "code",
   "execution_count": 231,
   "id": "2efb65ed",
   "metadata": {},
   "outputs": [
    {
     "name": "stdout",
     "output_type": "stream",
     "text": [
      "no.car greater than 25mpg= 158\n"
     ]
    }
   ],
   "source": [
    "no_carabove25mpg =np.sum(mpg_array>25)\n",
    "print('no.car greater than 25mpg=',no_carabove25mpg)"
   ]
  },
  {
   "cell_type": "markdown",
   "id": "3e30a1fd",
   "metadata": {},
   "source": [
    "# 2. Filtering\n",
    "Using NumPy, filter all cars with more than 6 cylinders.\n",
    "Return the corresponding car_name as a list."
   ]
  },
  {
   "cell_type": "code",
   "execution_count": 232,
   "id": "dbcf0419",
   "metadata": {},
   "outputs": [],
   "source": [
    "data = pd.read_csv(\n",
    "    r\"C:\\Users\\rahul\\OneDrive\\Desktop\\anitha\\DSA\\dsa assignments\\case study on numpy and pandas asst\\auto-mpg.csv\"\n",
    ")"
   ]
  },
  {
   "cell_type": "markdown",
   "id": "75c5250b",
   "metadata": {},
   "source": []
  },
  {
   "cell_type": "code",
   "execution_count": 233,
   "id": "3cf3703e",
   "metadata": {},
   "outputs": [
    {
     "name": "stdout",
     "output_type": "stream",
     "text": [
      "['chevrolet chevelle malibu', 'buick skylark 320', 'plymouth satellite', 'amc rebel sst', 'ford torino', 'ford galaxie 500', 'chevrolet impala', 'plymouth fury iii', 'pontiac catalina', 'amc ambassador dpl', 'dodge challenger se', \"plymouth 'cuda 340\", 'chevrolet monte carlo', 'buick estate wagon (sw)', 'ford f250', 'chevy c20', 'dodge d200', 'hi 1200d', 'chevrolet impala', 'pontiac catalina brougham', 'ford galaxie 500', 'plymouth fury iii', 'dodge monaco (sw)', 'ford country squire (sw)', 'pontiac safari (sw)', 'chevrolet impala', 'pontiac catalina', 'plymouth fury iii', 'ford galaxie 500', 'amc ambassador sst', 'mercury marquis', 'buick lesabre custom', 'oldsmobile delta 88 royale', 'chrysler newport royal', 'amc matador (sw)', 'chevrolet chevelle concours (sw)', 'ford gran torino (sw)', 'plymouth satellite custom (sw)', 'buick century 350', 'amc matador', 'chevrolet malibu', 'ford gran torino', 'dodge coronet custom', 'mercury marquis brougham', 'chevrolet caprice classic', 'ford ltd', 'plymouth fury gran sedan', 'chrysler new yorker brougham', 'buick electra 225 custom', 'amc ambassador brougham', 'chevrolet impala', 'ford country', 'plymouth custom suburb', 'oldsmobile vista cruiser', 'chevrolet monte carlo s', 'pontiac grand prix', 'dodge dart custom', 'oldsmobile omega', 'ford gran torino', 'buick century luxus (sw)', 'dodge coronet custom (sw)', 'ford gran torino (sw)', 'amc matador (sw)', 'pontiac catalina', 'chevrolet bel air', 'plymouth grand fury', 'ford ltd', 'chevrolet monza 2+2', 'ford mustang ii', 'chevrolet chevelle malibu classic', 'dodge coronet brougham', 'amc matador', 'ford gran torino', 'plymouth volare premier v8', 'cadillac seville', 'chevy c10', 'ford f108', 'dodge d100', 'chevrolet caprice classic', 'oldsmobile cutlass supreme', 'dodge monaco brougham', 'mercury cougar brougham', 'pontiac grand prix lj', 'chevrolet monte carlo landau', 'chrysler cordoba', 'ford thunderbird', 'oldsmobile cutlass salon brougham', 'dodge diplomat', 'mercury monarch ghia', 'chevrolet monte carlo landau', 'ford futura', 'dodge magnum xe', 'chevrolet caprice classic', 'ford ltd landau', 'mercury grand marquis', 'dodge st. regis', 'buick estate wagon (sw)', 'ford country squire (sw)', 'chevrolet malibu classic (sw)', 'chrysler lebaron town @ country (sw)', 'cadillac eldorado', 'oldsmobile cutlass salon brougham', 'oldsmobile cutlass ls']\n"
     ]
    }
   ],
   "source": [
    "filtered_cars=data[data['cylinders']>6]\n",
    "print(filtered_cars['car name'].to_list())"
   ]
  },
  {
   "cell_type": "markdown",
   "id": "0f400b08",
   "metadata": {},
   "source": [
    "# 3. Statistical Analysis\n",
    "Compute the 25th, 50th, and 75th percentiles of the weight column using NumPy."
   ]
  },
  {
   "cell_type": "code",
   "execution_count": 234,
   "id": "dfaa2e56",
   "metadata": {},
   "outputs": [
    {
     "name": "stdout",
     "output_type": "stream",
     "text": [
      "25thpercentile= 2223.75 50thpercentile= 2803.5 75thpercentile= 3608.0\n"
     ]
    }
   ],
   "source": [
    "weights=data['weight']\n",
    "percentiles=np.percentile(weights,[25,50,75])\n",
    "print('25thpercentile=',percentiles[0],\n",
    "      '50thpercentile=',percentiles[1],\n",
    "      '75thpercentile=',percentiles[2])"
   ]
  },
  {
   "cell_type": "markdown",
   "id": "4af95664",
   "metadata": {},
   "source": [
    "# 4. Array Manipulation\n",
    "Convert the acceleration column into a NumPy array and normalize its values\n",
    "(scale between 0 and 1)"
   ]
  },
  {
   "cell_type": "code",
   "execution_count": 235,
   "id": "b98c753c",
   "metadata": {},
   "outputs": [
    {
     "name": "stdout",
     "output_type": "stream",
     "text": [
      "[0.23809524 0.20833333 0.17857143 0.23809524 0.14880952 0.11904762\n",
      " 0.05952381 0.0297619  0.11904762 0.0297619  0.11904762 0.\n",
      " 0.08928571 0.11904762 0.41666667 0.44642857 0.44642857 0.47619048\n",
      " 0.38690476 0.74404762 0.56547619 0.38690476 0.56547619 0.26785714\n",
      " 0.41666667 0.35714286 0.41666667 0.32738095 0.625      0.38690476\n",
      " 0.44642857 0.35714286 0.6547619  0.29761905 0.44642857 0.44642857\n",
      " 0.44642857 0.44642857 0.23809524 0.20833333 0.32738095 0.29761905\n",
      " 0.20833333 0.23809524 0.23809524 0.32738095 0.6547619  0.41666667\n",
      " 0.38690476 0.35714286 0.35714286 0.68452381 0.38690476 0.6547619\n",
      " 0.5952381  0.6547619  0.74404762 0.44642857 0.53571429 0.92261905\n",
      " 0.68452381 0.50595238 0.23809524 0.23809524 0.32738095 0.29761905\n",
      " 0.20833333 0.17857143 0.32738095 0.32738095 0.26785714 0.32738095\n",
      " 0.26785714 0.35714286 0.47619048 0.35714286 0.38690476 0.5952381\n",
      " 0.68452381 0.5952381  0.47619048 0.53571429 0.38690476 0.41666667\n",
      " 0.50595238 0.29761905 0.20833333 0.29761905 0.38690476 0.26785714\n",
      " 0.20833333 0.23809524 0.29761905 0.38690476 0.17857143 0.17857143\n",
      " 0.17857143 0.50595238 0.5952381  0.47619048 0.50595238 0.47619048\n",
      " 0.77380952 0.35714286 0.26785714 0.29761905 0.26785714 0.41666667\n",
      " 0.6547619  0.68452381 0.50595238 0.32738095 0.625      0.35714286\n",
      " 0.44642857 0.29761905 0.08928571 0.68452381 0.44642857 0.35714286\n",
      " 0.44642857 0.17857143 0.35714286 0.32738095 0.17857143 0.50595238\n",
      " 0.53571429 0.47619048 0.53571429 0.6547619  0.50595238 0.77380952\n",
      " 0.53571429 0.53571429 0.5952381  0.50595238 0.35714286 0.38690476\n",
      " 0.32738095 0.47619048 0.44642857 0.50595238 0.44642857 0.38690476\n",
      " 0.50595238 0.6547619  0.38690476 0.44642857 0.35714286 0.41666667\n",
      " 0.44642857 0.47619048 0.47619048 0.47619048 0.77380952 0.68452381\n",
      " 0.20833333 0.35714286 0.38690476 0.32738095 0.77380952 0.625\n",
      " 0.6547619  0.6547619  0.41666667 0.32738095 0.23809524 0.47619048\n",
      " 0.53571429 0.47619048 0.625      0.32738095 0.50595238 0.53571429\n",
      " 0.38690476 0.35714286 0.53571429 0.41666667 0.53571429 0.38690476\n",
      " 0.32738095 0.56547619 0.44642857 0.5297619  0.41071429 0.57738095\n",
      " 0.43452381 0.29761905 0.29761905 0.35119048 0.28571429 0.44047619\n",
      " 0.38690476 0.57142857 0.57142857 0.8452381  0.83928571 0.36904762\n",
      " 0.55952381 0.57738095 0.77380952 0.48809524 0.58333333 0.25\n",
      " 0.53571429 0.5        0.33333333 0.45833333 0.30952381 0.82738095\n",
      " 0.44642857 0.51785714 0.24404762 0.23809524 0.41666667 0.35714286\n",
      " 0.625      0.4047619  0.63095238 0.44642857 0.52380952 0.26785714\n",
      " 0.6547619  0.33928571 0.41071429 0.5        0.5297619  0.57738095\n",
      " 0.6547619  0.18452381 0.20238095 0.25       0.38690476 0.38690476\n",
      " 0.47619048 0.60714286 0.46428571 0.53571429 0.4702381  0.5\n",
      " 0.36309524 0.38690476 0.28571429 0.32738095 0.80357143 0.38095238\n",
      " 0.67857143 0.63095238 0.5        0.44642857 0.30952381 0.28571429\n",
      " 0.66666667 0.60714286 0.46428571 0.44047619 0.54761905 0.54761905\n",
      " 0.46428571 0.51785714 0.63690476 0.42261905 0.30952381 0.32142857\n",
      " 0.19047619 0.33928571 0.50595238 0.36904762 0.39880952 0.38690476\n",
      " 0.4047619  0.51785714 0.57142857 0.41071429 0.4702381  0.33333333\n",
      " 0.45833333 0.46428571 0.41071429 0.51190476 0.44047619 0.60714286\n",
      " 0.55357143 0.60714286 0.51190476 0.44047619 0.32142857 0.30952381\n",
      " 0.42857143 0.41071429 0.375      0.41666667 0.29761905 0.35714286\n",
      " 0.42857143 0.38095238 0.41666667 0.7202381  0.55952381 1.\n",
      " 0.8452381  0.30952381 0.41071429 0.66666667 0.39880952 0.47619048\n",
      " 0.19642857 0.29166667 0.30952381 0.39880952 0.64285714 0.44642857\n",
      " 0.5        0.50595238 0.60119048 0.7202381  0.63690476 0.46428571\n",
      " 0.44642857 0.56547619 0.41666667 0.42857143 0.58928571 0.38095238\n",
      " 0.66666667 0.81547619 0.93452381 0.70833333 0.82142857 0.3452381\n",
      " 0.55357143 0.5952381  0.43452381 0.20238095 0.26785714 0.42261905\n",
      " 0.375      0.53571429 0.45833333 0.5        0.38095238 0.27380952\n",
      " 0.29166667 0.5297619  0.5        0.48214286 0.58333333 0.67857143\n",
      " 0.55357143 0.47619048 0.41071429 0.48809524 0.75595238 0.36904762\n",
      " 0.46428571 0.38095238 0.52380952 0.4047619  0.61309524 0.73809524\n",
      " 0.69047619 0.27380952 0.3452381  0.46428571 0.6547619  0.54166667\n",
      " 0.51190476 0.69047619 0.63095238 0.5952381  0.48809524 0.47619048\n",
      " 0.5952381  0.5        0.74404762 0.43452381 0.60714286 0.57142857\n",
      " 0.39880952 0.55357143 0.38690476 0.38690476 0.5297619  0.41666667\n",
      " 0.45833333 0.48809524 0.5        0.53571429 0.38690476 0.39880952\n",
      " 0.35119048 0.29761905 0.55357143 0.45238095 0.98809524 0.21428571\n",
      " 0.63095238 0.67857143]\n"
     ]
    }
   ],
   "source": [
    "acceleration_array=data['acceleration'].to_numpy()\n",
    "normalized_acceleration= (acceleration_array-acceleration_array.min())/(acceleration_array.max()-acceleration_array.min())\n",
    "print(normalized_acceleration)"
   ]
  },
  {
   "cell_type": "markdown",
   "id": "4cb05c3a",
   "metadata": {},
   "source": [
    "# 5. Broadcasting\n",
    "Increase all horsepower values by 10% and store the updated values in a new\n",
    "NumPy array. Handle missing data (if any) by replacing it with the mean of the\n",
    "column before applying the increase."
   ]
  },
  {
   "cell_type": "code",
   "execution_count": 236,
   "id": "ba68d6a1",
   "metadata": {},
   "outputs": [
    {
     "name": "stdout",
     "output_type": "stream",
     "text": [
      "['130' '165' '150' '150' '140' '198' '220' '215' '225' '190' '170' '160'\n",
      " '150' '225' '95' '95' '97' '85' '88' '46' '87' '90' '95' '113' '90' '215'\n",
      " '200' '210' '193' '88' '90' '95' '?' '100' '105' '100' '88' '100' '165'\n",
      " '175' '153' '150' '180' '170' '175' '110' '72' '100' '88' '86' '90' '70'\n",
      " '76' '65' '69' '60' '70' '95' '80' '54' '90' '86' '165' '175' '150' '153'\n",
      " '150' '208' '155' '160' '190' '97' '150' '130' '140' '150' '112' '76'\n",
      " '87' '69' '86' '92' '97' '80' '88' '175' '150' '145' '137' '150' '198'\n",
      " '150' '158' '150' '215' '225' '175' '105' '100' '100' '88' '95' '46'\n",
      " '150' '167' '170' '180' '100' '88' '72' '94' '90' '85' '107' '90' '145'\n",
      " '230' '49' '75' '91' '112' '150' '110' '122' '180' '95' '?' '100' '100'\n",
      " '67' '80' '65' '75' '100' '110' '105' '140' '150' '150' '140' '150' '83'\n",
      " '67' '78' '52' '61' '75' '75' '75' '97' '93' '67' '95' '105' '72' '72'\n",
      " '170' '145' '150' '148' '110' '105' '110' '95' '110' '110' '129' '75'\n",
      " '83' '100' '78' '96' '71' '97' '97' '70' '90' '95' '88' '98' '115' '53'\n",
      " '86' '81' '92' '79' '83' '140' '150' '120' '152' '100' '105' '81' '90'\n",
      " '52' '60' '70' '53' '100' '78' '110' '95' '71' '70' '75' '72' '102' '150'\n",
      " '88' '108' '120' '180' '145' '130' '150' '68' '80' '58' '96' '70' '145'\n",
      " '110' '145' '130' '110' '105' '100' '98' '180' '170' '190' '149' '78'\n",
      " '88' '75' '89' '63' '83' '67' '78' '97' '110' '110' '48' '66' '52' '70'\n",
      " '60' '110' '140' '139' '105' '95' '85' '88' '100' '90' '105' '85' '110'\n",
      " '120' '145' '165' '139' '140' '68' '95' '97' '75' '95' '105' '85' '97'\n",
      " '103' '125' '115' '133' '71' '68' '115' '85' '88' '90' '110' '130' '129'\n",
      " '138' '135' '155' '142' '125' '150' '71' '65' '80' '80' '77' '125' '71'\n",
      " '90' '70' '70' '65' '69' '90' '115' '115' '90' '76' '60' '70' '65' '90'\n",
      " '88' '90' '90' '78' '90' '75' '92' '75' '65' '105' '65' '48' '48' '67'\n",
      " '67' '67' '?' '67' '62' '132' '100' '88' '?' '72' '84' '84' '92' '110'\n",
      " '84' '58' '64' '60' '67' '65' '62' '68' '63' '65' '65' '74' '?' '75' '75'\n",
      " '100' '74' '80' '76' '116' '120' '110' '105' '88' '85' '88' '88' '88'\n",
      " '85' '84' '90' '92' '?' '74' '68' '68' '63' '70' '88' '75' '70' '67' '67'\n",
      " '67' '110' '85' '92' '112' '96' '84' '90' '86' '52' '84' '79' '82']\n",
      "[143.         181.5        165.         165.         154.\n",
      " 217.8        242.         236.5        247.5        209.\n",
      " 187.         176.         165.         247.5        104.5\n",
      " 104.5        106.7         93.5         96.8         50.6\n",
      "  95.7         99.         104.5        124.3         99.\n",
      " 236.5        220.         231.         212.3         96.8\n",
      "  99.         104.5        114.91632653 110.         115.5\n",
      " 110.          96.8        110.         181.5        192.5\n",
      " 168.3        165.         198.         187.         192.5\n",
      " 121.          79.2        110.          96.8         94.6\n",
      "  99.          77.          83.6         71.5         75.9\n",
      "  66.          77.         104.5         88.          59.4\n",
      "  99.          94.6        181.5        192.5        165.\n",
      " 168.3        165.         228.8        170.5        176.\n",
      " 209.         106.7        165.         143.         154.\n",
      " 165.         123.2         83.6         95.7         75.9\n",
      "  94.6        101.2        106.7         88.          96.8\n",
      " 192.5        165.         159.5        150.7        165.\n",
      " 217.8        165.         173.8        165.         236.5\n",
      " 247.5        192.5        115.5        110.         110.\n",
      "  96.8        104.5         50.6        165.         183.7\n",
      " 187.         198.         110.          96.8         79.2\n",
      " 103.4         99.          93.5        117.7         99.\n",
      " 159.5        253.          53.9         82.5        100.1\n",
      " 123.2        165.         121.         134.2        198.\n",
      " 104.5        114.91632653 110.         110.          73.7\n",
      "  88.          71.5         82.5        110.         121.\n",
      " 115.5        154.         165.         165.         154.\n",
      " 165.          91.3         73.7         85.8         57.2\n",
      "  67.1         82.5         82.5         82.5        106.7\n",
      " 102.3         73.7        104.5        115.5         79.2\n",
      "  79.2        187.         159.5        165.         162.8\n",
      " 121.         115.5        121.         104.5        121.\n",
      " 121.         141.9         82.5         91.3        110.\n",
      "  85.8        105.6         78.1        106.7        106.7\n",
      "  77.          99.         104.5         96.8        107.8\n",
      " 126.5         58.3         94.6         89.1        101.2\n",
      "  86.9         91.3        154.         165.         132.\n",
      " 167.2        110.         115.5         89.1         99.\n",
      "  57.2         66.          77.          58.3        110.\n",
      "  85.8        121.         104.5         78.1         77.\n",
      "  82.5         79.2        112.2        165.          96.8\n",
      " 118.8        132.         198.         159.5        143.\n",
      " 165.          74.8         88.          63.8        105.6\n",
      "  77.         159.5        121.         159.5        143.\n",
      " 121.         115.5        110.         107.8        198.\n",
      " 187.         209.         163.9         85.8         96.8\n",
      "  82.5         97.9         69.3         91.3         73.7\n",
      "  85.8        106.7        121.         121.          52.8\n",
      "  72.6         57.2         77.          66.         121.\n",
      " 154.         152.9        115.5        104.5         93.5\n",
      "  96.8        110.          99.         115.5         93.5\n",
      " 121.         132.         159.5        181.5        152.9\n",
      " 154.          74.8        104.5        106.7         82.5\n",
      " 104.5        115.5         93.5        106.7        113.3\n",
      " 137.5        126.5        146.3         78.1         74.8\n",
      " 126.5         93.5         96.8         99.         121.\n",
      " 143.         141.9        151.8        148.5        170.5\n",
      " 156.2        137.5        165.          78.1         71.5\n",
      "  88.          88.          84.7        137.5         78.1\n",
      "  99.          77.          77.          71.5         75.9\n",
      "  99.         126.5        126.5         99.          83.6\n",
      "  66.          77.          71.5         99.          96.8\n",
      "  99.          99.          85.8         99.          82.5\n",
      " 101.2         82.5         71.5        115.5         71.5\n",
      "  52.8         52.8         73.7         73.7         73.7\n",
      " 114.91632653  73.7         68.2        145.2        110.\n",
      "  96.8        114.91632653  79.2         92.4         92.4\n",
      " 101.2        121.          92.4         63.8         70.4\n",
      "  66.          73.7         71.5         68.2         74.8\n",
      "  69.3         71.5         71.5         81.4        114.91632653\n",
      "  82.5         82.5        110.          81.4         88.\n",
      "  83.6        127.6        132.         121.         115.5\n",
      "  96.8         93.5         96.8         96.8         96.8\n",
      "  93.5         92.4         99.         101.2        114.91632653\n",
      "  81.4         74.8         74.8         69.3         77.\n",
      "  96.8         82.5         77.          73.7         73.7\n",
      "  73.7        121.          93.5        101.2        123.2\n",
      " 105.6         92.4         99.          94.6         57.2\n",
      "  92.4         86.9         90.2       ]\n"
     ]
    }
   ],
   "source": [
    "print(horsepower_array)\n",
    "horsepower_array=np.where(horsepower_array=='NAN', np.nan , horsepower_array)\n",
    "horsepower_array=pd.to_numeric(horsepower_array, errors='coerce')\n",
    "mean_hp=np.nanmean(horsepower_array)\n",
    "horsepower_meanfilled=np.where(np.isnan(horsepower_array),mean_hp,horsepower_array)\n",
    "horsepowerincreased10=horsepower_meanfilled*1.10\n",
    "print(horsepowerincreased10)"
   ]
  },
  {
   "cell_type": "markdown",
   "id": "fa0ccf7d",
   "metadata": {},
   "source": [
    "# 6.Boolean Indexing\n",
    "Find the average displacement of cars with an origin of 2 (Europe) using NumPy\n",
    "indexing."
   ]
  },
  {
   "cell_type": "code",
   "execution_count": 237,
   "id": "99113554",
   "metadata": {},
   "outputs": [
    {
     "name": "stdout",
     "output_type": "stream",
     "text": [
      "averagedisplacement= 109.14285714285714\n"
     ]
    }
   ],
   "source": [
    "european_cars=displacement_array[origin_arrray==2]\n",
    "average=np.mean(european_cars)\n",
    "print(\"averagedisplacement=\", average)"
   ]
  },
  {
   "cell_type": "markdown",
   "id": "fd2064d4",
   "metadata": {},
   "source": [
    "# 7. Matrix Operations\n",
    "Create a 2D NumPy array containing the columns mpg, horsepower, and weight.\n",
    "Compute the dot product of this matrix with a given vector [1, 0.5, -0.2].\n"
   ]
  },
  {
   "cell_type": "code",
   "execution_count": 238,
   "id": "aed72ec8",
   "metadata": {},
   "outputs": [
    {
     "name": "stdout",
     "output_type": "stream",
     "text": [
      "[-617.8 -641.1 -594.2 -595.6 -602.8 -754.2 -746.8 -740.9 -758.5 -660.\n",
      " -612.6 -627.8 -662.2 -490.7 -402.9 -497.1 -488.3 -453.9 -355.  -318.\n",
      " -465.9 -417.  -402.5 -364.3 -463.6 -805.5 -765.2 -760.4 -840.9 -355.\n",
      " -379.8 -373.1 -457.8 -619.3 -598.8 -597.4 -589.6 -745.3 -791.3 -740.3\n",
      " -730.2 -889.  -851.2 -927.5 -519.4 -423.6 -587.4 -565.8 -378.  -351.6\n",
      " -349.8 -345.  -291.1 -253.1 -309.8 -330.  -384.1 -360.2 -400.8 -416.6\n",
      " -381.2 -759.3 -775.5 -737.  -735.3 -642.4 -811.6 -809.9 -799.2 -776.4\n",
      " -398.5 -688.4 -741.6 -775.8 -726.4 -512.6 -442.2 -531.3 -377.3 -414.\n",
      " -383.6 -429.7 -364.8 -349.  -719.5 -645.4 -712.1 -725.9 -665.4 -879.4\n",
      " -804.8 -780.6 -758.4 -826.5 -865.7 -663.7 -553.7 -589.6 -521.  -542.2\n",
      " -510.3 -341.  -913.4 -885.7 -832.8 -797.8 -489.8 -391.8 -423.2 -406.8\n",
      " -361.8 -400.5 -419.9 -382.  -728.9 -724.6 -319.9 -370.1 -450.9 -498.6\n",
      " -589.8 -453.  -480.4 -631.8 -552.9 -511.2 -602.2 -325.5 -424.2 -302.7\n",
      " -445.9 -690.2 -655.4 -652.1 -742.2 -851.8 -802.4 -843.6 -762.4 -373.3\n",
      " -333.1 -395.  -272.8 -338.1 -359.5 -360.1 -385.7 -425.3 -405.7 -335.5\n",
      " -586.3 -621.3 -635.4 -580.6 -832.6 -800.5 -808.6 -843.4 -709.4 -710.9\n",
      " -676.  -691.5 -531.8 -569.2 -556.3 -367.7 -463.3 -512.8 -456.4 -468.4\n",
      " -384.1 -436.5 -530.3 -323.4 -578.2 -468.3 -524.4 -518.  -451.7 -299.5\n",
      " -421.8 -378.5 -443.4 -385.5 -371.9 -755.5 -747.  -716.9 -752.5 -574.6\n",
      " -596.1 -537.9 -549.5 -352.  -378.3 -323.4 -299.5 -660.2 -657.8 -655.5\n",
      " -573.6 -300.  -331.  -365.5 -450.5 -559.  -700.  -591.  -513.  -687.5\n",
      " -769.5 -725.5 -696.  -663.  -343.5 -361.  -300.  -386.5 -320.5 -686.\n",
      " -740.  -740.  -779.  -631.5 -612.  -657.  -637.5 -738.  -732.5 -754.5\n",
      " -776.5 -320.  -479.5 -389.5 -481.  -348.2 -340.  -333.5 -368.5 -492.5\n",
      " -443.5 -467.5 -329.9 -290.9 -338.2 -339.6 -293.9 -598.1 -657.6 -624.3\n",
      " -635.3 -563.  -530.3 -474.9 -615.5 -577.6 -602.9 -550.7 -650.4 -603.9\n",
      " -593.3 -588.8 -553.4 -728.5 -367.  -437.  -384.3 -377.6 -434.4 -473.3\n",
      " -504.7 -408.6 -494.2 -548.5 -479.9 -599.3 -331.  -363.5 -570.  -535.7\n",
      " -511.7 -587.8 -596.4 -686.  -662.9 -705.5 -680.3 -777.6 -724.3 -639.3\n",
      " -694.5 -317.6 -328.4 -307.3 -466.6 -642.1 -694.5 -575.3 -615.1 -370.8\n",
      " -360.5 -339.7 -354.2 -460.6 -432.7 -455.7 -432.7 -349.3 -325.5 -356.9\n",
      " -334.1 -462.6 -503.6 -531.3 -612.1 -364.3 -467.4 -439.6 -403.8 -383.3\n",
      " -342.9 -479.6 -348.7 -348.7 -399.6 -520.1 -586.5 -291.9 -361.7 -308.2\n",
      " -483.3 -410.3 -421.  -389.6 -428.8 -458.4 -452.2 -466.5 -405.  -282.9\n",
      " -304.  -286.9 -347.2 -325.5 -341.3 -328.9 -376.8 -342.1 -413.6 -368.\n",
      " -370.8 -400.1 -440.1 -458.4 -577.9 -563.3 -496.6 -501.8 -605.6 -665.9\n",
      " -547.8 -632.9 -449.  -457.  -401.  -441.5 -434.  -475.  -503.  -323.\n",
      " -334.  -329.  -355.5 -354.  -352.  -367.5 -380.  -321.5 -327.5 -327.5\n",
      " -509.  -522.5 -445.  -489.  -453.  -396.  -518.  -488.  -356.  -385.\n",
      " -457.5 -472. ]\n"
     ]
    }
   ],
   "source": [
    "# Replace missing values ('?') in horsepower and convert to float\n",
    "data[\"horsepower\"] = pd.to_numeric(data[\"horsepower\"], errors=\"coerce\")\n",
    "data.dropna(subset=[\"horsepower\"], inplace=True)\n",
    "\n",
    "# Extract required columns\n",
    "features = data[[\"mpg\", \"horsepower\", \"weight\"]].values\n",
    "\n",
    "# Define the vector\n",
    "vector = np.array([1, 0.5, -0.2])\n",
    "\n",
    "# Compute dot product\n",
    "dot_product = np.dot(features, vector)\n",
    "print(dot_product)"
   ]
  },
  {
   "cell_type": "markdown",
   "id": "1fd762c1",
   "metadata": {},
   "source": [
    "\n",
    "8. Sorting\n",
    "Use NumPy to sort the cars by model_year in descending order and display the first\n",
    "five car names.\n"
   ]
  },
  {
   "cell_type": "code",
   "execution_count": 239,
   "id": "0ce00636",
   "metadata": {},
   "outputs": [
    {
     "name": "stdout",
     "output_type": "stream",
     "text": [
      "Top 5 cars by model year (descending): ['chevy s-10' 'ford ranger' 'dodge rampage' 'vw pickup'\n",
      " 'chevrolet cavalier 2-door']\n"
     ]
    }
   ],
   "source": [
    "# df['model_year'] = pd.to_numeric(df['model_year'], errors='coerce')\n",
    "data.head()\n",
    "# Convert to NumPy structured array\n",
    "data1 =data[['model year', 'car name']].to_numpy()\n",
    "\n",
    "# Get sorting indices for descending order of model_year\n",
    "sorted_indices = np.argsort(-data1[:, 0].astype(float))  # Negative for descending\n",
    "\n",
    "# Display first 5 car names\n",
    "top_5_names = data1[sorted_indices][:5, 1]\n",
    "print(\"Top 5 cars by model year (descending):\", top_5_names)\n",
    "#print(top_5_names)"
   ]
  },
  {
   "cell_type": "markdown",
   "id": "cb8f9f3f",
   "metadata": {},
   "source": [
    "9. Correlation\n",
    "Compute the Pearson correlation coefficient between mpg and weight using\n",
    "NumPy.\n"
   ]
  },
  {
   "cell_type": "code",
   "execution_count": 240,
   "id": "84feb15f",
   "metadata": {},
   "outputs": [
    {
     "name": "stdout",
     "output_type": "stream",
     "text": [
      "Pearson Correlation (mpg vs weight): -0.8322\n"
     ]
    }
   ],
   "source": [
    "# Extract columns as NumPy arrays\n",
    "mpg = data[\"mpg\"].to_numpy()\n",
    "weight = data[\"weight\"].to_numpy()\n",
    "\n",
    "\n",
    "# Compute Pearson correlation coefficient\n",
    "def pearson_corr(x, y):\n",
    "    x_mean = np.mean(x)\n",
    "    y_mean = np.mean(y)\n",
    "    numerator = np.sum((x - x_mean) * (y - y_mean))\n",
    "    denominator = np.sqrt(np.sum((x - x_mean) ** 2) * np.sum((y - y_mean) ** 2))\n",
    "    return numerator / denominator\n",
    "\n",
    "\n",
    "corr = pearson_corr(mpg, weight)\n",
    "print(f\"Pearson Correlation (mpg vs weight): {corr:.4f}\")"
   ]
  },
  {
   "cell_type": "markdown",
   "id": "bf1aabb3",
   "metadata": {},
   "source": [
    "10. Conditional Aggregates\n",
    "Calculate the mean mpg for cars grouped by the number of cylinders using NumPy\n",
    "techniques"
   ]
  },
  {
   "cell_type": "code",
   "execution_count": 241,
   "id": "b77a6b29",
   "metadata": {},
   "outputs": [
    {
     "name": "stdout",
     "output_type": "stream",
     "text": [
      "Mean MPG by Number of Cylinders:\n",
      "3 cylinders: 20.55\n",
      "4 cylinders: 29.28\n",
      "5 cylinders: 27.37\n",
      "6 cylinders: 19.97\n",
      "8 cylinders: 14.96\n"
     ]
    }
   ],
   "source": [
    "# Extract as NumPy array\n",
    "cylinders = data[\"cylinders\"].to_numpy()\n",
    "mpg = data[\"mpg\"].to_numpy()\n",
    "\n",
    "# Find unique cylinder values\n",
    "unique_cyl = np.unique(cylinders)\n",
    "\n",
    "# Compute mean mpg for each cylinder group\n",
    "print(\"Mean MPG by Number of Cylinders:\")\n",
    "for cyl in unique_cyl:\n",
    "    mask = cylinders == cyl\n",
    "    mean_mpg = np.mean(mpg[mask])\n",
    "    print(f\"{cyl} cylinders: {mean_mpg:.2f}\")"
   ]
  },
  {
   "cell_type": "markdown",
   "id": "2178d9e5",
   "metadata": {},
   "source": [
    "# PANDAS \n",
    "1.Load the dataset into a Pandas DataFrame. Display:\n",
    "○ The first 10 rows\n",
    "○ The total number of rows and columns\n",
    "○ Summary statistics for numerical columns"
   ]
  },
  {
   "cell_type": "code",
   "execution_count": 242,
   "id": "52717ad3",
   "metadata": {},
   "outputs": [
    {
     "name": "stdout",
     "output_type": "stream",
     "text": [
      "first 10 rows:     mpg  cylinders  displacement horsepower  weight  acceleration  model year  \\\n",
      "0  18.0          8         307.0        130    3504          12.0          70   \n",
      "1  15.0          8         350.0        165    3693          11.5          70   \n",
      "2  18.0          8         318.0        150    3436          11.0          70   \n",
      "3  16.0          8         304.0        150    3433          12.0          70   \n",
      "4  17.0          8         302.0        140    3449          10.5          70   \n",
      "5  15.0          8         429.0        198    4341          10.0          70   \n",
      "6  14.0          8         454.0        220    4354           9.0          70   \n",
      "7  14.0          8         440.0        215    4312           8.5          70   \n",
      "8  14.0          8         455.0        225    4425          10.0          70   \n",
      "9  15.0          8         390.0        190    3850           8.5          70   \n",
      "\n",
      "   origin                   car name  \n",
      "0       1  chevrolet chevelle malibu  \n",
      "1       1          buick skylark 320  \n",
      "2       1         plymouth satellite  \n",
      "3       1              amc rebel sst  \n",
      "4       1                ford torino  \n",
      "5       1           ford galaxie 500  \n",
      "6       1           chevrolet impala  \n",
      "7       1          plymouth fury iii  \n",
      "8       1           pontiac catalina  \n",
      "9       1         amc ambassador dpl  \n",
      "The total number of rows and columns (398, 9)\n",
      "Summary statistics for numerical columns               mpg   cylinders  displacement       weight  acceleration  \\\n",
      "count  398.000000  398.000000    398.000000   398.000000    398.000000   \n",
      "mean    23.514573    5.454774    193.425879  2970.424623     15.568090   \n",
      "std      7.815984    1.701004    104.269838   846.841774      2.757689   \n",
      "min      9.000000    3.000000     68.000000  1613.000000      8.000000   \n",
      "25%     17.500000    4.000000    104.250000  2223.750000     13.825000   \n",
      "50%     23.000000    4.000000    148.500000  2803.500000     15.500000   \n",
      "75%     29.000000    8.000000    262.000000  3608.000000     17.175000   \n",
      "max     46.600000    8.000000    455.000000  5140.000000     24.800000   \n",
      "\n",
      "       model year      origin  \n",
      "count  398.000000  398.000000  \n",
      "mean    76.010050    1.572864  \n",
      "std      3.697627    0.802055  \n",
      "min     70.000000    1.000000  \n",
      "25%     73.000000    1.000000  \n",
      "50%     76.000000    1.000000  \n",
      "75%     79.000000    2.000000  \n",
      "max     82.000000    3.000000  \n"
     ]
    }
   ],
   "source": [
    "import pandas as pd\n",
    "import numpy as np\n",
    "df = pd.read_csv(\n",
    "    r\"C:\\Users\\rahul\\OneDrive\\Desktop\\anitha\\DSA\\dsa assignments\\case study on numpy and pandas asst\\auto-mpg.csv\"\n",
    ")\n",
    "print(\"first 10 rows:\", df.head(10))\n",
    "print(\"The total number of rows and columns\", df.shape)\n",
    "print(\"Summary statistics for numerical columns\",df.describe())"
   ]
  },
  {
   "cell_type": "markdown",
   "id": "983dbe54",
   "metadata": {},
   "source": [
    "2.Filtering and Indexing\n",
    "Find all cars manufactured in 1975 with a weight less than 3000. Return the\n",
    "DataFrame with selected columns: car_name, weight, and mpg"
   ]
  },
  {
   "cell_type": "code",
   "execution_count": 243,
   "id": "1ca295a4",
   "metadata": {},
   "outputs": [
    {
     "name": "stdout",
     "output_type": "stream",
     "text": [
      "              car name  weight   mpg\n",
      "167     toyota corolla    2171  29.0\n",
      "168         ford pinto    2639  23.0\n",
      "169        amc gremlin    2914  20.0\n",
      "170      pontiac astro    2592  23.0\n",
      "171      toyota corona    2702  24.0\n",
      "172  volkswagen dasher    2223  25.0\n",
      "173         datsun 710    2545  24.0\n",
      "174         ford pinto    2984  18.0\n",
      "175  volkswagen rabbit    1937  29.0\n",
      "177         audi 100ls    2694  23.0\n",
      "178        peugeot 504    2957  23.0\n",
      "179        volvo 244dl    2945  22.0\n",
      "180          saab 99le    2671  25.0\n",
      "181   honda civic cvcc    1795  33.0\n"
     ]
    }
   ],
   "source": [
    "cars_1975 = df[(df[\"model year\"] == 75) & (df[\"weight\"] < 3000)]\n",
    "result_1975 = cars_1975[[\"car name\", \"weight\", \"mpg\"]]\n",
    "print(result_1975)"
   ]
  },
  {
   "cell_type": "markdown",
   "id": "d16f995b",
   "metadata": {},
   "source": [
    "\n",
    "3. Handling Missing Data\n",
    "Identify if there are any missing values in the dataset. Replace missing values in the\n",
    "horsepower column with the column's median."
   ]
  },
  {
   "cell_type": "code",
   "execution_count": 244,
   "id": "968b60b9",
   "metadata": {},
   "outputs": [
    {
     "name": "stdout",
     "output_type": "stream",
     "text": [
      "Missing values: mpg             0\n",
      "cylinders       0\n",
      "displacement    0\n",
      "horsepower      6\n",
      "weight          0\n",
      "acceleration    0\n",
      "model year      0\n",
      "origin          0\n",
      "car name        0\n",
      "dtype: int64\n"
     ]
    }
   ],
   "source": [
    "df[\"horsepower\"] = pd.to_numeric(df[\"horsepower\"], errors=\"coerce\")\n",
    "\n",
    "# Check for missing values\n",
    "print(\"Missing values:\", df.isnull().sum())\n",
    "\n",
    "\n",
    "# Fill missing horsepower values with median\n",
    "median_hp = df[\"horsepower\"].median()\n",
    "df.fillna({\"horsepower\": median_hp}, inplace=True)"
   ]
  },
  {
   "cell_type": "markdown",
   "id": "abede486",
   "metadata": {},
   "source": [
    "\n",
    "4. Data Transformation\n",
    "Add a new column power_to_weight_ratio, calculated as horsepower / weight."
   ]
  },
  {
   "cell_type": "code",
   "execution_count": 245,
   "id": "c2f2a073",
   "metadata": {},
   "outputs": [
    {
     "name": "stdout",
     "output_type": "stream",
     "text": [
      "    mpg  cylinders  displacement  horsepower  weight  acceleration  \\\n",
      "0  18.0          8         307.0       130.0    3504          12.0   \n",
      "1  15.0          8         350.0       165.0    3693          11.5   \n",
      "2  18.0          8         318.0       150.0    3436          11.0   \n",
      "3  16.0          8         304.0       150.0    3433          12.0   \n",
      "4  17.0          8         302.0       140.0    3449          10.5   \n",
      "\n",
      "   model year  origin                   car name  power_to_weight_ratio  \n",
      "0          70       1  chevrolet chevelle malibu               0.037100  \n",
      "1          70       1          buick skylark 320               0.044679  \n",
      "2          70       1         plymouth satellite               0.043655  \n",
      "3          70       1              amc rebel sst               0.043694  \n",
      "4          70       1                ford torino               0.040591  \n"
     ]
    }
   ],
   "source": [
    "df[\"power_to_weight_ratio\"] = df[\"horsepower\"] / df[\"weight\"]\n",
    "print(df.head())"
   ]
  },
  {
   "cell_type": "markdown",
   "id": "cf758b21",
   "metadata": {},
   "source": [
    "5. Group By\n",
    "Group the cars by origin and calculate the mean mpg for each group."
   ]
  },
  {
   "cell_type": "code",
   "execution_count": 246,
   "id": "ab7bb9b4",
   "metadata": {},
   "outputs": [
    {
     "name": "stdout",
     "output_type": "stream",
     "text": [
      "Mean MPG by origin: origin\n",
      "1    20.083534\n",
      "2    27.891429\n",
      "3    30.450633\n",
      "Name: mpg, dtype: float64\n"
     ]
    }
   ],
   "source": [
    "mean_mpg_by_origin = df.groupby(\"origin\")[\"mpg\"].mean()\n",
    "print(\"Mean MPG by origin:\",mean_mpg_by_origin)\n"
   ]
  },
  {
   "cell_type": "markdown",
   "id": "b95a6817",
   "metadata": {},
   "source": [
    "\n",
    "6. Sorting\n",
    "Sort the DataFrame by mpg in descending order and display the top 10 cars with\n",
    "the highest mpg.\n"
   ]
  },
  {
   "cell_type": "code",
   "execution_count": 247,
   "id": "42d3c6ff",
   "metadata": {},
   "outputs": [
    {
     "name": "stdout",
     "output_type": "stream",
     "text": [
      "Top 10 cars by MPG:                             car name   mpg\n",
      "322                        mazda glc  46.6\n",
      "329              honda civic 1500 gl  44.6\n",
      "325             vw rabbit c (diesel)  44.3\n",
      "394                        vw pickup  44.0\n",
      "326               vw dasher (diesel)  43.4\n",
      "244  volkswagen rabbit custom diesel  43.1\n",
      "309                        vw rabbit  41.5\n",
      "330             renault lecar deluxe  40.9\n",
      "324                       datsun 210  40.8\n",
      "247                   datsun b210 gx  39.4\n"
     ]
    }
   ],
   "source": [
    "top_10_mpg = df.sort_values(by=\"mpg\", ascending=False).head(10)\n",
    "print(\"Top 10 cars by MPG:\", top_10_mpg[[\"car name\", \"mpg\"]])\n"
   ]
  },
  {
   "cell_type": "markdown",
   "id": "6de21491",
   "metadata": {},
   "source": [
    "Apply Function\n",
    "Create a new column performance_score using a custom function:\n",
    "def performance_score(row):\n",
    "return row['mpg'] * row['acceleration'] / row['weight']\n",
    "\n",
    "7. Apply this function to each row and store the result in the new column.\n"
   ]
  },
  {
   "cell_type": "code",
   "execution_count": 248,
   "id": "c03ff512",
   "metadata": {},
   "outputs": [],
   "source": [
    "def performance_score(row):\n",
    "    return row[\"mpg\"] * row[\"acceleration\"] / row[\"weight\"]\n",
    "\n",
    "\n",
    "df[\"performance_score\"] = df.apply(performance_score, axis=1)"
   ]
  },
  {
   "cell_type": "markdown",
   "id": "18844e4f",
   "metadata": {},
   "source": [
    "\n",
    "\n",
    "8. Visualization Preparation\n",
    "Generate a summary DataFrame with:\n",
    "○ Average mpg, weight, and horsepower for each model_year."
   ]
  },
  {
   "cell_type": "code",
   "execution_count": 249,
   "id": "5585b40c",
   "metadata": {},
   "outputs": [
    {
     "name": "stdout",
     "output_type": "stream",
     "text": [
      "Summary by model_year:                   mpg       weight  horsepower\n",
      "model year                                    \n",
      "70          17.689655  3372.793103  147.827586\n",
      "71          21.250000  2995.428571  106.553571\n",
      "72          18.714286  3237.714286  120.178571\n",
      "73          17.100000  3419.025000  130.475000\n",
      "74          22.703704  2877.925926   94.203704\n",
      "75          20.266667  3176.800000  101.066667\n",
      "76          21.573529  3078.735294  101.117647\n",
      "77          23.375000  2997.357143  105.071429\n",
      "78          24.061111  2861.805556   99.694444\n",
      "79          25.093103  3055.344828  101.206897\n",
      "80          33.696552  2436.655172   78.586207\n",
      "81          30.334483  2522.931034   81.465517\n",
      "82          31.709677  2453.548387   81.854839\n"
     ]
    }
   ],
   "source": [
    "summary_by_year = df.groupby(\"model year\")[[\"mpg\", \"weight\", \"horsepower\"]].mean()\n",
    "print(\"Summary by model_year:\", summary_by_year)\n",
    "#print(summary_by_year)"
   ]
  },
  {
   "cell_type": "markdown",
   "id": "250abf3f",
   "metadata": {},
   "source": [
    "\n",
    "9. Exporting Data\n",
    "Save a subset of the data containing only mpg, cylinders, horsepower, and weight\n",
    "for cars with mpg > 30 into a CSV file named high_mpg_cars.csv."
   ]
  },
  {
   "cell_type": "code",
   "execution_count": 250,
   "id": "3957a966",
   "metadata": {},
   "outputs": [],
   "source": [
    "high_mpg = df[df[\"mpg\"] > 30][[\"mpg\", \"cylinders\", \"horsepower\", \"weight\"]]\n",
    "high_mpg.to_csv(\"high_mpg_cars.csv\", index=False)"
   ]
  },
  {
   "cell_type": "markdown",
   "id": "063c07ae",
   "metadata": {},
   "source": [
    "\n",
    "10. Finding Anomalies\n",
    "Identify potential outliers in the mpg column using the Interquartile Range (IQR)\n",
    "method. Specifically:\n",
    "● Calculate the IQR for mpg.\n",
    "2\n",
    "● Define outliers as values less than Q1 - 1.5 * IQR or greater than Q3 +\n",
    "1.5 * IQR.\n",
    "● Create a DataFrame of cars classified as outliers, displaying car_name, mpg,\n",
    "and model_year."
   ]
  },
  {
   "cell_type": "code",
   "execution_count": 251,
   "id": "fafafb30",
   "metadata": {},
   "outputs": [
    {
     "name": "stdout",
     "output_type": "stream",
     "text": [
      "Potential MPG outliers:       car name   mpg  model year\n",
      "322  mazda glc  46.6          80\n"
     ]
    }
   ],
   "source": [
    "Q1 = df[\"mpg\"].quantile(0.25)\n",
    "Q3 = df[\"mpg\"].quantile(0.75)\n",
    "IQR = Q3 - Q1\n",
    "\n",
    "# Define bounds\n",
    "lower_bound = Q1 - 1.5 * IQR\n",
    "upper_bound = Q3 + 1.5 * IQR\n",
    "\n",
    "# Find outliers\n",
    "outliers = df[(df[\"mpg\"] < lower_bound) | (df[\"mpg\"] > upper_bound)]\n",
    "print(\"Potential MPG outliers:\", outliers[[\"car name\", \"mpg\", \"model year\"]])\n"
   ]
  }
 ],
 "metadata": {
  "kernelspec": {
   "display_name": "Python 3",
   "language": "python",
   "name": "python3"
  },
  "language_info": {
   "codemirror_mode": {
    "name": "ipython",
    "version": 3
   },
   "file_extension": ".py",
   "mimetype": "text/x-python",
   "name": "python",
   "nbconvert_exporter": "python",
   "pygments_lexer": "ipython3",
   "version": "3.13.2"
  }
 },
 "nbformat": 4,
 "nbformat_minor": 5
}
