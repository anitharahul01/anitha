{
 "cells": [
  {
   "cell_type": "code",
   "execution_count": 11,
   "id": "83187347",
   "metadata": {},
   "outputs": [
    {
     "name": "stdout",
     "output_type": "stream",
     "text": [
      "   Unnamed: 0      country  beer_servings  spirit_servings  wine_servings  \\\n",
      "0           0  Afghanistan            0.0              0.0            0.0   \n",
      "1           1      Albania           89.0            132.0           54.0   \n",
      "2           2      Algeria           25.0              0.0           14.0   \n",
      "3           3      Andorra          245.0            138.0          312.0   \n",
      "4           4       Angola          217.0             57.0           45.0   \n",
      "\n",
      "   total_litres_of_pure_alcohol continent  \n",
      "0                           0.0      Asia  \n",
      "1                           4.9    Europe  \n",
      "2                           0.7    Africa  \n",
      "3                          12.4    Europe  \n",
      "4                           5.9    Africa  \n"
     ]
    }
   ],
   "source": [
    "# model_training.py\n",
    "import pandas as pd\n",
    "import pickle\n",
    "from sklearn.model_selection import train_test_split, GridSearchCV\n",
    "from sklearn.linear_model import LinearRegression\n",
    "from sklearn.ensemble import RandomForestRegressor\n",
    "from sklearn.preprocessing import OneHotEncoder\n",
    "from sklearn.compose import ColumnTransformer\n",
    "from sklearn.pipeline import Pipeline\n",
    "from sklearn.metrics import r2_score\n",
    "\n",
    "# Load dataset\n",
    "df = pd.read_csv(\n",
    "    r\"C:\\Users\\rahul\\OneDrive\\Desktop\\anitha\\DSA\\dsa assignments\\streamlitappdeploy\\beer-servings.csv\"\n",
    ")\n",
    "df.dropna(inplace=True)\n",
    "print(df.head())\n",
    "\n"
   ]
  },
  {
   "cell_type": "code",
   "execution_count": 12,
   "id": "bb7050cd",
   "metadata": {},
   "outputs": [],
   "source": [
    "# Features & target\n",
    "X = df[[\"country\", \"beer_servings\", \"spirit_servings\", \"wine_servings\", \"continent\"]]\n",
    "y = df[\"total_litres_of_pure_alcohol\"]\n",
    "\n",
    "# Categorical & numerical\n",
    "categorical = [\"country\", \"continent\"]\n",
    "numerical = [\"beer_servings\", \"spirit_servings\", \"wine_servings\"]\n",
    "\n",
    "# Preprocessor\n",
    "preprocessor = ColumnTransformer(\n",
    "    [(\"cat\", OneHotEncoder(handle_unknown=\"ignore\"), categorical)],\n",
    "    remainder=\"passthrough\",\n",
    ")\n",
    "\n",
    "# Pipelines\n",
    "pipe_lr = Pipeline([(\"pre\", preprocessor), (\"model\", LinearRegression())])\n",
    "\n",
    "pipe_rf = Pipeline([(\"pre\", preprocessor), (\"model\", RandomForestRegressor(random_state=42))])"
   ]
  },
  {
   "cell_type": "code",
   "execution_count": 13,
   "id": "48c882ce",
   "metadata": {},
   "outputs": [
    {
     "name": "stdout",
     "output_type": "stream",
     "text": [
      "Linear R2: 0.836 | Random Forest R2: 0.822\n"
     ]
    }
   ],
   "source": [
    "# Train/test split\n",
    "X_train, X_test, y_train, y_test = train_test_split(\n",
    "    X, y, test_size=0.2, random_state=42\n",
    ")\n",
    "\n",
    "# Train both models\n",
    "pipe_lr.fit(X_train, y_train)\n",
    "pipe_rf.fit(X_train, y_train)\n",
    "\n",
    "# Evaluate\n",
    "r2_lr = r2_score(y_test, pipe_lr.predict(X_test))\n",
    "r2_rf = r2_score(y_test, pipe_rf.predict(X_test))\n",
    "\n",
    "print(f\"Linear R2: {r2_lr:.3f} | Random Forest R2: {r2_rf:.3f}\")\n",
    "\n"
   ]
  },
  {
   "cell_type": "code",
   "execution_count": 14,
   "id": "75c4dc8c",
   "metadata": {},
   "outputs": [
    {
     "name": "stdout",
     "output_type": "stream",
     "text": [
      "Best Random Forest R2: 0.8218393896092901\n"
     ]
    }
   ],
   "source": [
    "# Hyperparameter tuning for Random Forest\n",
    "params = {\"model__n_estimators\": [50, 100, 200], \"model__max_depth\": [None, 5, 10]}\n",
    "grid = GridSearchCV(pipe_rf, param_grid=params, cv=5, scoring=\"r2\", n_jobs=-1)\n",
    "grid.fit(X_train, y_train)\n",
    "\n",
    "print(\"Best Random Forest R2:\", r2_score(y_test, grid.best_estimator_.predict(X_test)))\n"
   ]
  },
  {
   "cell_type": "code",
   "execution_count": 15,
   "id": "3ac08c26",
   "metadata": {},
   "outputs": [],
   "source": [
    "# Save best model\n",
    "with open(\"model.pkl\", \"wb\") as f:\n",
    "    pickle.dump(grid.best_estimator_, f)"
   ]
  }
 ],
 "metadata": {
  "kernelspec": {
   "display_name": "Python 3",
   "language": "python",
   "name": "python3"
  },
  "language_info": {
   "codemirror_mode": {
    "name": "ipython",
    "version": 3
   },
   "file_extension": ".py",
   "mimetype": "text/x-python",
   "name": "python",
   "nbconvert_exporter": "python",
   "pygments_lexer": "ipython3",
   "version": "3.13.2"
  }
 },
 "nbformat": 4,
 "nbformat_minor": 5
}
