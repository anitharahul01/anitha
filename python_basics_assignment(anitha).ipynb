{
  "cells": [
    {
      "cell_type": "markdown",
      "metadata": {
        "id": "view-in-github",
        "colab_type": "text"
      },
      "source": [
        "<a href=\"https://colab.research.google.com/github/anitharahul01/anitha/blob/main/python_basics_assignment(anitha).ipynb\" target=\"_parent\"><img src=\"https://colab.research.google.com/assets/colab-badge.svg\" alt=\"Open In Colab\"/></a>"
      ]
    },
    {
      "cell_type": "markdown",
      "id": "d2328cad",
      "metadata": {
        "id": "d2328cad"
      },
      "source": [
        "# Python Basics Assignment\n",
        "\n",
        "This notebook contains 20 basic Python questions.  \n",
        "Each question carries **1 mark**. Write your answer in the cell provided.  \n"
      ]
    },
    {
      "cell_type": "markdown",
      "id": "cb537954",
      "metadata": {
        "id": "cb537954"
      },
      "source": [
        "### Question 1\n",
        "Write a function that returns the square of a number."
      ]
    },
    {
      "cell_type": "code",
      "execution_count": null,
      "id": "cf213ba2",
      "metadata": {
        "colab": {
          "base_uri": "https://localhost:8080/"
        },
        "id": "cf213ba2",
        "outputId": "dac83c34-d5e8-4a03-b24e-ba40ca95a891"
      },
      "outputs": [
        {
          "output_type": "stream",
          "name": "stdout",
          "text": [
            "16\n"
          ]
        }
      ],
      "source": [
        "n=4\n",
        "square=pow(n,2)\n",
        "print(square)"
      ]
    },
    {
      "cell_type": "markdown",
      "id": "4eaff430",
      "metadata": {
        "id": "4eaff430"
      },
      "source": [
        "### Question 2\n",
        "Write a function that checks whether a number is even."
      ]
    },
    {
      "cell_type": "code",
      "execution_count": null,
      "id": "81934cf7",
      "metadata": {
        "colab": {
          "base_uri": "https://localhost:8080/"
        },
        "id": "81934cf7",
        "outputId": "a5372b74-1762-4e3d-d2c8-0ff82960c282"
      },
      "outputs": [
        {
          "output_type": "execute_result",
          "data": {
            "text/plain": [
              "False"
            ]
          },
          "metadata": {},
          "execution_count": 51
        }
      ],
      "source": [
        "# Your code here\n",
        "def is_even(n):\n",
        "  if n%2==0:\n",
        "    return True\n",
        "  else:\n",
        "    return False\n",
        "is_even(521)"
      ]
    },
    {
      "cell_type": "markdown",
      "id": "5f061e50",
      "metadata": {
        "id": "5f061e50"
      },
      "source": [
        "### Question 3\n",
        "Write a function to return the maximum of two numbers."
      ]
    },
    {
      "cell_type": "code",
      "execution_count": null,
      "id": "44e2a596",
      "metadata": {
        "colab": {
          "base_uri": "https://localhost:8080/"
        },
        "id": "44e2a596",
        "outputId": "7883ac57-61c6-4d44-9f06-50b4fb131a8e"
      },
      "outputs": [
        {
          "output_type": "execute_result",
          "data": {
            "text/plain": [
              "566"
            ]
          },
          "metadata": {},
          "execution_count": 67
        }
      ],
      "source": [
        "# Your code here\n",
        "def max(a,b):\n",
        "  if a>b:\n",
        "    return a\n",
        "  else:\n",
        "      return b\n",
        "      pass\n",
        "max(566,78)\n"
      ]
    },
    {
      "cell_type": "markdown",
      "id": "7513ca91",
      "metadata": {
        "id": "7513ca91"
      },
      "source": [
        "### Question 4\n",
        "Write a function to return the factorial of a number."
      ]
    },
    {
      "cell_type": "code",
      "execution_count": null,
      "id": "6617842f",
      "metadata": {
        "colab": {
          "base_uri": "https://localhost:8080/"
        },
        "id": "6617842f",
        "outputId": "8c5fce87-cd4b-4285-9248-4a34a62c9ebf"
      },
      "outputs": [
        {
          "output_type": "execute_result",
          "data": {
            "text/plain": [
              "3628800"
            ]
          },
          "metadata": {},
          "execution_count": 76
        }
      ],
      "source": [
        "\n",
        "# Your code here\n",
        "def factorial(n):\n",
        "    if n==0:\n",
        "     return 1\n",
        "    else:\n",
        "      result=1\n",
        "      for i in range(1,n+1):\n",
        "       result*=i\n",
        "      return result\n",
        "\n",
        "    pass\n",
        "factorial(10)"
      ]
    },
    {
      "cell_type": "markdown",
      "id": "9b942098",
      "metadata": {
        "id": "9b942098"
      },
      "source": [
        "### Question 5\n",
        "Write a function to reverse a string."
      ]
    },
    {
      "cell_type": "code",
      "execution_count": 20,
      "id": "d606b194",
      "metadata": {
        "id": "d606b194",
        "outputId": "a4603931-aa90-4079-e32c-445e99b1a36d",
        "colab": {
          "base_uri": "https://localhost:8080/",
          "height": 35
        }
      },
      "outputs": [
        {
          "output_type": "execute_result",
          "data": {
            "text/plain": [
              "'nehcik'"
            ],
            "application/vnd.google.colaboratory.intrinsic+json": {
              "type": "string"
            }
          },
          "metadata": {},
          "execution_count": 20
        }
      ],
      "source": [
        "# Your code here\n",
        "def reverse(x):\n",
        "     x=x[::-1]\n",
        "     return x\n",
        "     pass\n",
        "reverse(\"kichen\")"
      ]
    },
    {
      "cell_type": "markdown",
      "id": "1abd915b",
      "metadata": {
        "id": "1abd915b"
      },
      "source": [
        "### Question 6\n",
        "Write a function to check if a string is a palindrome."
      ]
    },
    {
      "cell_type": "code",
      "execution_count": 37,
      "id": "2b868fb3",
      "metadata": {
        "id": "2b868fb3",
        "outputId": "3c179977-d675-490e-a79c-30fdf6a1a47f",
        "colab": {
          "base_uri": "https://localhost:8080/"
        }
      },
      "outputs": [
        {
          "output_type": "stream",
          "name": "stdout",
          "text": [
            "not a paliandrome\n"
          ]
        }
      ],
      "source": [
        "# Your code here\n",
        "def paliandrome(x):\n",
        "  if x==x[::-1]:\n",
        "   print('paliandrome')\n",
        "  else:\n",
        "    print(\"not a paliandrome\")\n",
        "\n",
        "  pass\n",
        "paliandrome(\"what\")"
      ]
    },
    {
      "cell_type": "markdown",
      "id": "5f2f3791",
      "metadata": {
        "id": "5f2f3791"
      },
      "source": [
        "### Question 7\n",
        "Write a function to count vowels in a string."
      ]
    },
    {
      "cell_type": "code",
      "execution_count": null,
      "id": "73fefa50",
      "metadata": {
        "id": "73fefa50"
      },
      "outputs": [],
      "source": [
        "# Your code here\n",
        "def vowels(x):\n",
        "    pass"
      ]
    },
    {
      "cell_type": "markdown",
      "id": "0d3a9996",
      "metadata": {
        "id": "0d3a9996"
      },
      "source": [
        "### Question 8\n",
        "Write a function that returns the sum of a list."
      ]
    },
    {
      "cell_type": "code",
      "execution_count": null,
      "id": "ab6afc66",
      "metadata": {
        "id": "ab6afc66"
      },
      "outputs": [],
      "source": [
        "# Your code here\n",
        "def your_function_8():\n",
        "    pass"
      ]
    },
    {
      "cell_type": "markdown",
      "id": "f6682500",
      "metadata": {
        "id": "f6682500"
      },
      "source": [
        "### Question 9\n",
        "Write a function to find the smallest number in a list."
      ]
    },
    {
      "cell_type": "code",
      "execution_count": null,
      "id": "6798a641",
      "metadata": {
        "id": "6798a641"
      },
      "outputs": [],
      "source": [
        "# Your code here\n",
        "def your_function_9():\n",
        "    pass"
      ]
    },
    {
      "cell_type": "markdown",
      "id": "fb11e683",
      "metadata": {
        "id": "fb11e683"
      },
      "source": [
        "### Question 10\n",
        "Write a function to remove duplicates from a list."
      ]
    },
    {
      "cell_type": "code",
      "execution_count": null,
      "id": "7c53f88c",
      "metadata": {
        "id": "7c53f88c"
      },
      "outputs": [],
      "source": [
        "# Your code here\n",
        "def your_function_10():\n",
        "    pass"
      ]
    },
    {
      "cell_type": "markdown",
      "id": "9c380a5c",
      "metadata": {
        "id": "9c380a5c"
      },
      "source": [
        "### Question 11\n",
        "Write a function to sort a list in ascending order."
      ]
    },
    {
      "cell_type": "code",
      "execution_count": null,
      "id": "8e43832f",
      "metadata": {
        "id": "8e43832f"
      },
      "outputs": [],
      "source": [
        "# Your code here\n",
        "def your_function_11():\n",
        "    pass"
      ]
    },
    {
      "cell_type": "markdown",
      "id": "1270c91c",
      "metadata": {
        "id": "1270c91c"
      },
      "source": [
        "### Question 12\n",
        "Write a function that returns the length of a string."
      ]
    },
    {
      "cell_type": "code",
      "execution_count": null,
      "id": "87f35472",
      "metadata": {
        "id": "87f35472"
      },
      "outputs": [],
      "source": [
        "# Your code here\n",
        "def your_function_12():\n",
        "    pass"
      ]
    },
    {
      "cell_type": "markdown",
      "id": "9a8e3d28",
      "metadata": {
        "id": "9a8e3d28"
      },
      "source": [
        "### Question 13\n",
        "Write a function to count words in a sentence."
      ]
    },
    {
      "cell_type": "code",
      "execution_count": null,
      "id": "e6f996ef",
      "metadata": {
        "id": "e6f996ef"
      },
      "outputs": [],
      "source": [
        "# Your code here\n",
        "def your_function_13():\n",
        "    pass"
      ]
    },
    {
      "cell_type": "markdown",
      "id": "430c2e4a",
      "metadata": {
        "id": "430c2e4a"
      },
      "source": [
        "### Question 14\n",
        "Write a function to convert Celsius to Fahrenheit."
      ]
    },
    {
      "cell_type": "code",
      "execution_count": null,
      "id": "b710b0bd",
      "metadata": {
        "id": "b710b0bd"
      },
      "outputs": [],
      "source": [
        "# Your code here\n",
        "def your_function_14():\n",
        "    pass"
      ]
    },
    {
      "cell_type": "markdown",
      "id": "acefe5e3",
      "metadata": {
        "id": "acefe5e3"
      },
      "source": [
        "### Question 15\n",
        "Write a function to check if a number is prime."
      ]
    },
    {
      "cell_type": "code",
      "execution_count": null,
      "id": "b700abae",
      "metadata": {
        "id": "b700abae"
      },
      "outputs": [],
      "source": [
        "# Your code here\n",
        "def your_function_15():\n",
        "    pass"
      ]
    },
    {
      "cell_type": "markdown",
      "id": "b63452cb",
      "metadata": {
        "id": "b63452cb"
      },
      "source": [
        "### Question 16\n",
        "Write a function to return all even numbers in a list."
      ]
    },
    {
      "cell_type": "code",
      "execution_count": null,
      "id": "9d1fc968",
      "metadata": {
        "id": "9d1fc968"
      },
      "outputs": [],
      "source": [
        "# Your code here\n",
        "def your_function_16():\n",
        "    pass"
      ]
    },
    {
      "cell_type": "markdown",
      "id": "aca524d9",
      "metadata": {
        "id": "aca524d9"
      },
      "source": [
        "### Question 17\n",
        "Write a function to return the nth Fibonacci number."
      ]
    },
    {
      "cell_type": "code",
      "execution_count": null,
      "id": "97dc4e87",
      "metadata": {
        "id": "97dc4e87"
      },
      "outputs": [],
      "source": [
        "# Your code here\n",
        "def your_function_17():\n",
        "    pass"
      ]
    },
    {
      "cell_type": "markdown",
      "id": "29c847dc",
      "metadata": {
        "id": "29c847dc"
      },
      "source": [
        "### Question 18\n",
        "Write a function to calculate the average of a list."
      ]
    },
    {
      "cell_type": "code",
      "execution_count": null,
      "id": "9adc9fd2",
      "metadata": {
        "id": "9adc9fd2"
      },
      "outputs": [],
      "source": [
        "# Your code here\n",
        "def your_function_18():\n",
        "    pass"
      ]
    },
    {
      "cell_type": "markdown",
      "id": "420240fb",
      "metadata": {
        "id": "420240fb"
      },
      "source": [
        "### Question 19\n",
        "Write a function that returns a dictionary of character counts."
      ]
    },
    {
      "cell_type": "code",
      "execution_count": null,
      "id": "95cafc54",
      "metadata": {
        "id": "95cafc54"
      },
      "outputs": [],
      "source": [
        "# Your code here\n",
        "def your_function_19():\n",
        "    pass"
      ]
    },
    {
      "cell_type": "markdown",
      "id": "17629a07",
      "metadata": {
        "id": "17629a07"
      },
      "source": [
        "### Question 20\n",
        "Write a function that returns True if all list elements are unique."
      ]
    },
    {
      "cell_type": "code",
      "execution_count": null,
      "id": "fe4f8820",
      "metadata": {
        "id": "fe4f8820"
      },
      "outputs": [],
      "source": [
        "# Your code here\n",
        "def your_function_20():\n",
        "    pass"
      ]
    }
  ],
  "metadata": {
    "language_info": {
      "name": "python"
    },
    "colab": {
      "provenance": [],
      "include_colab_link": true
    },
    "kernelspec": {
      "name": "python3",
      "display_name": "Python 3"
    }
  },
  "nbformat": 4,
  "nbformat_minor": 5
}