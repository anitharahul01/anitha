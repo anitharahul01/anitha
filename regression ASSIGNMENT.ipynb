{
 "cells": [
  {
   "cell_type": "markdown",
   "id": "05af238d-ba3e-4469-b616-aef2f10d9e04",
   "metadata": {},
   "source": [
    "Case Study On Regression /\n",
    "The given dataset contains the price of a second-hand Hyundai grand i10 car\n",
    "with respect to year of making. Find the best linear relationship between year\n",
    "and price. Can you predict the possible price of a 2022 model second-hand\n",
    "grand i10?\n",
    "Please learn about lasso regression and create a model along with linear\n",
    "regression. Find out which one is performing better."
   ]
  },
  {
   "cell_type": "code",
   "execution_count": 1,
   "id": "756fbc22-cabd-42f9-8042-d16d17ab4b67",
   "metadata": {},
   "outputs": [],
   "source": [
    "import numpy as np\n",
    "import pandas as pd\n",
    "import matplotlib.pyplot as plt"
   ]
  },
  {
   "cell_type": "code",
   "execution_count": 2,
   "id": "85fcc03a-b8c4-4c9c-a8d7-8000e8fe40da",
   "metadata": {},
   "outputs": [],
   "source": [
    "data = pd.read_csv(r\"C:\\Users\\rahul\\OneDrive\\Desktop\\anitha\\DSA\\dsa assignments\\regression asst\\car_age_price.csv\")"
   ]
  },
  {
   "cell_type": "code",
   "execution_count": 3,
   "id": "86b2c91c-0a53-4fa6-8458-ffa129a5dde1",
   "metadata": {},
   "outputs": [
    {
     "data": {
      "text/html": [
       "<div>\n",
       "<style scoped>\n",
       "    .dataframe tbody tr th:only-of-type {\n",
       "        vertical-align: middle;\n",
       "    }\n",
       "\n",
       "    .dataframe tbody tr th {\n",
       "        vertical-align: top;\n",
       "    }\n",
       "\n",
       "    .dataframe thead th {\n",
       "        text-align: right;\n",
       "    }\n",
       "</style>\n",
       "<table border=\"1\" class=\"dataframe\">\n",
       "  <thead>\n",
       "    <tr style=\"text-align: right;\">\n",
       "      <th></th>\n",
       "      <th>Year</th>\n",
       "      <th>Price</th>\n",
       "    </tr>\n",
       "  </thead>\n",
       "  <tbody>\n",
       "    <tr>\n",
       "      <th>0</th>\n",
       "      <td>2018</td>\n",
       "      <td>465000</td>\n",
       "    </tr>\n",
       "    <tr>\n",
       "      <th>1</th>\n",
       "      <td>2019</td>\n",
       "      <td>755000</td>\n",
       "    </tr>\n",
       "    <tr>\n",
       "      <th>2</th>\n",
       "      <td>2019</td>\n",
       "      <td>700000</td>\n",
       "    </tr>\n",
       "    <tr>\n",
       "      <th>3</th>\n",
       "      <td>2018</td>\n",
       "      <td>465000</td>\n",
       "    </tr>\n",
       "    <tr>\n",
       "      <th>4</th>\n",
       "      <td>2018</td>\n",
       "      <td>465000</td>\n",
       "    </tr>\n",
       "  </tbody>\n",
       "</table>\n",
       "</div>"
      ],
      "text/plain": [
       "   Year   Price\n",
       "0  2018  465000\n",
       "1  2019  755000\n",
       "2  2019  700000\n",
       "3  2018  465000\n",
       "4  2018  465000"
      ]
     },
     "execution_count": 3,
     "metadata": {},
     "output_type": "execute_result"
    }
   ],
   "source": [
    "data.head()"
   ]
  },
  {
   "cell_type": "code",
   "execution_count": 4,
   "id": "5f1de353-3b91-427a-aeef-0ceac8cd819a",
   "metadata": {},
   "outputs": [
    {
     "data": {
      "text/plain": [
       "Index(['Year', 'Price'], dtype='object')"
      ]
     },
     "execution_count": 4,
     "metadata": {},
     "output_type": "execute_result"
    }
   ],
   "source": [
    "data.shape\n",
    "data.columns"
   ]
  },
  {
   "cell_type": "code",
   "execution_count": 5,
   "id": "d260863f-05af-4db9-a825-d46fcbc0ebf3",
   "metadata": {},
   "outputs": [
    {
     "data": {
      "text/plain": [
       "Year     0\n",
       "Price    0\n",
       "dtype: int64"
      ]
     },
     "execution_count": 5,
     "metadata": {},
     "output_type": "execute_result"
    }
   ],
   "source": [
    "data.isna().sum()"
   ]
  },
  {
   "cell_type": "code",
   "execution_count": null,
   "id": "1e914742-3957-408b-9727-15efceebf216",
   "metadata": {},
   "outputs": [],
   "source": []
  },
  {
   "cell_type": "code",
   "execution_count": 6,
   "id": "4318cb01-b7a6-4592-a1e2-5e443d535531",
   "metadata": {},
   "outputs": [],
   "source": [
    "from sklearn.linear_model import LinearRegression, Lasso\n",
    "from sklearn.model_selection import train_test_split\n",
    "from sklearn.metrics import mean_squared_error\n"
   ]
  },
  {
   "cell_type": "code",
   "execution_count": 7,
   "id": "51309bad-180a-4ac1-aeb7-486564646866",
   "metadata": {},
   "outputs": [],
   "source": [
    "x=data['Year']\n",
    "y=data['Price']\n",
    "x_train,x_test,y_train,y_test=train_test_split(x,y,test_size=.25,random_state=42)"
   ]
  },
  {
   "cell_type": "code",
   "execution_count": 8,
   "id": "1c9d8661-1f83-4353-a639-7d471bcf5574",
   "metadata": {},
   "outputs": [],
   "source": [
    "#Only convert if they are Series\n",
    "if isinstance(x_train, pd.Series):\n",
    "    x_train = x_train.to_frame()\n",
    "\n",
    "if isinstance(y_train, pd.Series):\n",
    "    y_train = y_train.to_frame()\n",
    "x_test = pd.DataFrame(x_test, columns=x_train.columns)\n"
   ]
  },
  {
   "cell_type": "code",
   "execution_count": 9,
   "id": "5d6f94fd-a8a8-420c-ad49-01eb31efd8b4",
   "metadata": {},
   "outputs": [],
   "source": [
    "lr_model = LinearRegression()\n",
    "lr_model.fit(x_train, y_train)\n",
    "lr_pred = lr_model.predict(x_test)"
   ]
  },
  {
   "cell_type": "code",
   "execution_count": 10,
   "id": "ae6ffdad-3b45-4531-a8f4-09364b24461e",
   "metadata": {},
   "outputs": [],
   "source": [
    "lasso_model = Lasso(alpha=0.1)  # alpha is the regularization parameter\n",
    "lasso_model.fit(x_train, y_train)\n",
    "lasso_pred = lasso_model.predict(x_test)"
   ]
  },
  {
   "cell_type": "code",
   "execution_count": 11,
   "id": "96e60b2e-0b7d-4eff-b2f7-9f8faa27c62d",
   "metadata": {},
   "outputs": [
    {
     "name": "stdout",
     "output_type": "stream",
     "text": [
      "Linear Regression MSE 3878767151.0731072\n",
      "Lasso Regression MSE 3878764025.5442586\n"
     ]
    }
   ],
   "source": [
    "lr_mse = mean_squared_error(y_test, lr_pred)\n",
    "lasso_mse = mean_squared_error(y_test, lasso_pred)\n",
    "\n",
    "print(\"Linear Regression MSE\",lr_mse)\n",
    "print(\"Lasso Regression MSE\",lasso_mse)"
   ]
  },
  {
   "cell_type": "code",
   "execution_count": 12,
   "id": "fa05077b-1deb-476a-966a-0e370b27d7e8",
   "metadata": {},
   "outputs": [
    {
     "name": "stdout",
     "output_type": "stream",
     "text": [
      "Predicted 2022 price (Linear Regression): ₹ 740160.1193776578\n",
      "Predicted 2022 price (Lasso Regression):₹  740159.9031400383\n"
     ]
    }
   ],
   "source": [
    "\n",
    "year_2022 = pd.DataFrame({'Year': [2022]})\n",
    "\n",
    "# Predict\n",
    "lr_price_2022 = lr_model.predict(year_2022)\n",
    "lasso_price_2022 = lasso_model.predict(year_2022)\n",
    "\n",
    "# Extract scalar values and format\n",
    "print('Predicted 2022 price (Linear Regression): ₹',lr_price_2022.item())\n",
    "print('Predicted 2022 price (Lasso Regression):₹ ',lasso_price_2022.item())"
   ]
  },
  {
   "cell_type": "code",
   "execution_count": 13,
   "id": "6d3f5761-8085-4431-8e1c-dbc86f1d32ee",
   "metadata": {},
   "outputs": [
    {
     "data": {
      "image/png": "[encoded data removed]",
      "text/plain": [
       "<Figure size 640x480 with 1 Axes>"
      ]
     },
     "metadata": {},
     "output_type": "display_data"
    }
   ],
   "source": [
    "x_reshape = x.to_frame()\n",
    "plt.scatter(x, y, color='blue', label='Actual Data')\n",
    "plt.plot(x, lr_model.predict(x_reshape), color='black', label='Linear Regression')\n",
    "plt.plot(x, lasso_model.predict(x_reshape), color='red', label='Lasso Regression')\n",
    "plt.xlabel('Year')\n",
    "plt.ylabel('Price')\n",
    "plt.title('Regression Comparison')\n",
    "plt.legend()\n",
    "plt.show()"
   ]
  },
  {
   "cell_type": "markdown",
   "id": "08a3f45b-9a32-476d-b159-01a755f19ce0",
   "metadata": {},
   "source": [
    "Linear Regression is a straightforward approach that may perform well with a simple dataset.\n",
    "\n",
    "Lasso Regression adds regularization, which can help in preventing overfitting, especially with more complex datasets.\n",
    "\n",
    "Based on the evaluation metrics (R² and MSE), you can select the model that best fits your data. If you have additional features (e.g., mileage, number of owners), incorporating them into the models could improve accuracy."
   ]
  }
 ],
 "metadata": {
  "kernelspec": {
   "display_name": "Python 3 (ipykernel)",
   "language": "python",
   "name": "python3"
  },
  "language_info": {
   "codemirror_mode": {
    "name": "ipython",
    "version": 3
   },
   "file_extension": ".py",
   "mimetype": "text/x-python",
   "name": "python",
   "nbconvert_exporter": "python",
   "pygments_lexer": "ipython3",
   "version": "3.13.2"
  }
 },
 "nbformat": 4,
 "nbformat_minor": 5
}
